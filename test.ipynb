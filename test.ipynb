{
 "cells": [
  {
   "cell_type": "code",
   "execution_count": 13,
   "metadata": {},
   "outputs": [
    {
     "data": {
      "text/plain": [
       "'./results/2024-09-22/21-48-32'"
      ]
     },
     "execution_count": 13,
     "metadata": {},
     "output_type": "execute_result"
    }
   ],
   "source": [
    "import os\n",
    "\n",
    "ckpt_path = r\"./results/2024-09-22/21-48-32/checkpoints/UNet3d_bn_512_braTS21_2024-09-22 21-48-29/best@epoch58_diceloss0.3599_dice0.7308_22.pth\"\n",
    "split_path = os.path.join(*ckpt_path.split(\"/\")[:4])\n",
    "# dir_path = os.path.join(*split_path[:2])\n",
    "\n",
    "split_path\n",
    "# dir_path"
   ]
  },
  {
   "cell_type": "code",
   "execution_count": null,
   "metadata": {},
   "outputs": [],
   "source": []
  }
 ],
 "metadata": {
  "kernelspec": {
   "display_name": "cv",
   "language": "python",
   "name": "python3"
  },
  "language_info": {
   "codemirror_mode": {
    "name": "ipython",
    "version": 3
   },
   "file_extension": ".py",
   "mimetype": "text/x-python",
   "name": "python",
   "nbconvert_exporter": "python",
   "pygments_lexer": "ipython3",
   "version": "3.10.14"
  }
 },
 "nbformat": 4,
 "nbformat_minor": 2
}
