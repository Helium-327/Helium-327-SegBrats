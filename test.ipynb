{
 "cells": [
  {
   "cell_type": "code",
   "execution_count": 13,
   "metadata": {},
   "outputs": [
    {
     "data": {
      "text/plain": [
       "'./results/2024-09-22/21-48-32'"
      ]
     },
     "execution_count": 13,
     "metadata": {},
     "output_type": "execute_result"
    }
   ],
   "source": [
    "import os\n",
    "\n",
    "ckpt_path = r\"./results/2024-09-22/21-48-32/checkpoints/UNet3d_bn_512_braTS21_2024-09-22 21-48-29/best@epoch58_diceloss0.3599_dice0.7308_22.pth\"\n",
    "split_path = os.path.join(*ckpt_path.split(\"/\")[:4])\n",
    "# dir_path = os.path.join(*split_path[:2])\n",
    "\n",
    "split_path\n",
    "# dir_path"
   ]
  },
  {
   "cell_type": "code",
   "execution_count": null,
   "metadata": {},
   "outputs": [],
   "source": []
  },
  {
   "cell_type": "code",
   "execution_count": 2,
   "metadata": {},
   "outputs": [
    {
     "name": "stdout",
     "output_type": "stream",
     "text": [
      "0.8114387392997742\n"
     ]
    }
   ],
   "source": [
    "import torch\n",
    "import torch.nn as nn\n",
    "\n",
    "# 假设输入 logits 是模型的原始输出（未经过 sigmoid 激活），形状为 [batch_size, height, width]\n",
    "logits = torch.randn(1, 128, 128)  # 示例数据\n",
    "# 真实标签，形状为 [batch_size, height, width]，值为0或1\n",
    "targets = torch.empty(1, 128, 128).random_(2).float()\n",
    "\n",
    "# 使用 Sigmoid 函数将 logits 转换为概率\n",
    "# probabilities = torch.sigmoid(logits)\n",
    "probabilities = logits\n",
    "# 使用 BCEWithLogitsLoss 损失函数，它结合了 Sigmoid 层和 BCE 损失，提高数值稳定性\n",
    "criterion = nn.BCEWithLogitsLoss()\n",
    "loss = criterion(logits, targets)\n",
    "\n",
    "# 打印损失值\n",
    "print(loss.item())"
   ]
  },
  {
   "cell_type": "code",
   "execution_count": 9,
   "metadata": {},
   "outputs": [
    {
     "name": "stdout",
     "output_type": "stream",
     "text": [
      "[4, 3, 2, 1]\n"
     ]
    }
   ],
   "source": [
    "features = [1,2,3,4]\n",
    "features.reverse()\n",
    "\n",
    "\n",
    "print(features)\n",
    "\n"
   ]
  },
  {
   "cell_type": "code",
   "execution_count": null,
   "metadata": {},
   "outputs": [],
   "source": []
  }
 ],
 "metadata": {
  "kernelspec": {
   "display_name": "cv",
   "language": "python",
   "name": "python3"
  },
  "language_info": {
   "codemirror_mode": {
    "name": "ipython",
    "version": 3
   },
   "file_extension": ".py",
   "mimetype": "text/x-python",
   "name": "python",
   "nbconvert_exporter": "python",
   "pygments_lexer": "ipython3",
   "version": "3.10.14"
  }
 },
 "nbformat": 4,
 "nbformat_minor": 2
}
